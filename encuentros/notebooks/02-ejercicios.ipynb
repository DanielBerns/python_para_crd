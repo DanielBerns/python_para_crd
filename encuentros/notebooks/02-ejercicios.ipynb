{
 "cells": [
  {
   "cell_type": "markdown",
   "metadata": {},
   "source": [
    "# Ejercicios"
   ]
  },
  {
   "cell_type": "markdown",
   "metadata": {},
   "source": [
    "1. En estos ejercicios, debemos modificar una linea, reemplazando el carácter '_' por algo que haga que el resultado de cada celda tenga el valor True\n",
    "\n",
    "2. En cada ejercicio, agregar un comentario que explique la modificación introducida\n",
    "\n",
    "3. Para ejecutar cada celda, presionar Mayúscula + Entrada (Shift + Enter)"
   ]
  },
  {
   "cell_type": "code",
   "execution_count": null,
   "metadata": {},
   "outputs": [],
   "source": [
    "lista_a = _  # Modificar esta linea\n",
    "assert type(lista_a) == list\n",
    "assert len(lista_a) == 2"
   ]
  },
  {
   "cell_type": "code",
   "execution_count": null,
   "metadata": {},
   "outputs": [],
   "source": [
    "lista_b = _     # Modificar esta linea\n",
    "assert type(lista_b) == list\n",
    "assert len(lista_b) == 3\n",
    "assert type(lista_b[0]) == int \n",
    "assert lista_b[0] > 2\n",
    "assert type(lista_b[1]) == float \n",
    "assert lista_b[1] < 0.0\n",
    "assert type(lista_b[2]) == str \n",
    "assert lista_b[2] == 'a'"
   ]
  },
  {
   "cell_type": "code",
   "execution_count": null,
   "metadata": {},
   "outputs": [],
   "source": [
    "suma = 0\n",
    "lista_c = _ # Modificar esta linea\n",
    "for l in lista_c:\n",
    "    suma += l\n",
    "assert(suma == 3)"
   ]
  },
  {
   "cell_type": "code",
   "execution_count": null,
   "metadata": {},
   "outputs": [],
   "source": [
    "tupla_a = (1, 2, 3)\n",
    "assert len(tupla_a) == _    # Modificar esta linea\n",
    "assert sum(tupla_a) == _    # Modificar esta linea"
   ]
  },
  {
   "cell_type": "code",
   "execution_count": null,
   "metadata": {},
   "outputs": [],
   "source": [
    "_ = 0                       # Modificar esta linea\n",
    "tupla_b = (1, 2, 3)\n",
    "assert (tupla_a == tupla_b) == _"
   ]
  },
  {
   "cell_type": "code",
   "execution_count": null,
   "metadata": {},
   "outputs": [],
   "source": [
    "dict_a = _  # Modificar esta linea\n",
    "assert dict_a['Uno'] == 1\n",
    "assert dict_a['Dos'] == 2"
   ]
  },
  {
   "cell_type": "code",
   "execution_count": null,
   "metadata": {},
   "outputs": [],
   "source": [
    "evento = {} # Modificar esta linea\n",
    "info = f\"'{evento['nombre']:s}', en la sala '{evento['sala']:s}' a las {evento['hora']:>2d}:{evento['minutos']:>02d}hs.\"\n",
    "assert info == \"'Curso de Python', en la sala 'A' a las 10:00hs.\""
   ]
  },
  {
   "cell_type": "code",
   "execution_count": null,
   "metadata": {},
   "outputs": [],
   "source": [
    "dict_b = {'a': 1, 'b': 2, 'c': 3, 'd': 4}\n",
    "lista_d = [] # Modificar esta linea\n",
    "valor_d = []\n",
    "for d in lista_d:\n",
    "    valor_d.append(dict_b[d])\n",
    "assert valor_d == [1, 2]\n",
    "lista_e = [] # Modificar esta linea\n",
    "valor_e = []\n",
    "for e in lista_e:\n",
    "    valor_e.append(dict_b[e])\n",
    "assert valor_e == [4, 3, 1]"
   ]
  }
 ],
 "metadata": {
  "kernelspec": {
   "display_name": "Python 3 (ipykernel)",
   "language": "python",
   "name": "python3"
  },
  "language_info": {
   "codemirror_mode": {
    "name": "ipython",
    "version": 3
   },
   "file_extension": ".py",
   "mimetype": "text/x-python",
   "name": "python",
   "nbconvert_exporter": "python",
   "pygments_lexer": "ipython3",
   "version": "3.8.10"
  }
 },
 "nbformat": 4,
 "nbformat_minor": 4
}
