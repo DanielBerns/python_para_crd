{
 "cells": [
  {
   "cell_type": "markdown",
   "metadata": {},
   "source": [
    "# Ejercicios"
   ]
  },
  {
   "cell_type": "markdown",
   "metadata": {},
   "source": [
    "1. En estos ejercicios, debemos reemplazar el carácter '_' por una constante que haga que el resultado de cada celda tenga el valor True\n",
    "\n",
    "2. En cada ejercicio, agregar como comentario el tipo de la constante con la que se reemplaza el carácter '_'\n",
    "\n",
    "3. Para ejecutar cada celda, presionar Mayúscula + Entrada (Shift + Enter)\n",
    "\n",
    "4. Al final del cuaderno, agregar una celda markdown con un título 'Datos personales' con las letras más grandes posibles y datos personales (nombre y apellido, dni, fecha de nacimiento) con subtítulos adecuados. Los datos no tienen que ser verdaderos."
   ]
  },
  {
   "cell_type": "code",
   "execution_count": null,
   "metadata": {},
   "outputs": [],
   "source": [
    "_ = None"
   ]
  },
  {
   "cell_type": "code",
   "execution_count": null,
   "metadata": {},
   "outputs": [],
   "source": [
    "type(_) == int"
   ]
  },
  {
   "cell_type": "code",
   "execution_count": null,
   "metadata": {},
   "outputs": [],
   "source": [
    "type(_) == float"
   ]
  },
  {
   "cell_type": "code",
   "execution_count": null,
   "metadata": {},
   "outputs": [],
   "source": [
    "type(_) == str"
   ]
  },
  {
   "cell_type": "code",
   "execution_count": null,
   "metadata": {},
   "outputs": [],
   "source": [
    "type(_) == bool"
   ]
  },
  {
   "cell_type": "code",
   "execution_count": null,
   "metadata": {},
   "outputs": [],
   "source": [
    "type(_) == tuple"
   ]
  },
  {
   "cell_type": "code",
   "execution_count": null,
   "metadata": {},
   "outputs": [],
   "source": [
    "type(_) == list"
   ]
  },
  {
   "cell_type": "code",
   "execution_count": null,
   "metadata": {},
   "outputs": [],
   "source": [
    "_ = 1\n",
    "(_ < 0) == (_ < 2)"
   ]
  },
  {
   "cell_type": "code",
   "execution_count": null,
   "metadata": {},
   "outputs": [],
   "source": [
    "_ = y = 0\n",
    "for x in range(_):   # Modificar esta linea\n",
    "    print(x)\n",
    "    y = x\n",
    "y == 3"
   ]
  },
  {
   "cell_type": "code",
   "execution_count": null,
   "metadata": {},
   "outputs": [],
   "source": [
    "x = 0              # Modificar esta linea\n",
    "counter = 0\n",
    "for k in range(x):   \n",
    "    counter += k\n",
    "counter == 6"
   ]
  },
  {
   "cell_type": "code",
   "execution_count": null,
   "metadata": {},
   "outputs": [],
   "source": [
    "suma = 0\n",
    "N = _                 # Modificar esta linea\n",
    "for i in range(N):\n",
    "    suma += i\n",
    "suma == 10 * 9 / 2 # N * (N-1) / 2"
   ]
  },
  {
   "cell_type": "code",
   "execution_count": null,
   "metadata": {},
   "outputs": [],
   "source": [
    "N = _  # Modificar esta linea\n",
    "for i in range(N):\n",
    "    if i % 2 == 0: # Por favor, averiguar que hace la operación %\n",
    "        print(i)\n",
    "i == 9\n"
   ]
  },
  {
   "cell_type": "code",
   "execution_count": null,
   "metadata": {},
   "outputs": [],
   "source": [
    "suma = 0\n",
    "for i in range(10):\n",
    "    suma += i\n",
    "sumb = 0\n",
    "N = _  # Modificar esta linea\n",
    "j = 0\n",
    "while j < N:    \n",
    "    sumb += j\n",
    "suma == sumb"
   ]
  },
  {
   "cell_type": "code",
   "execution_count": null,
   "metadata": {},
   "outputs": [],
   "source": []
  }
 ],
 "metadata": {
  "kernelspec": {
   "display_name": "Python 3 (ipykernel)",
   "language": "python",
   "name": "python3"
  },
  "language_info": {
   "codemirror_mode": {
    "name": "ipython",
    "version": 3
   },
   "file_extension": ".py",
   "mimetype": "text/x-python",
   "name": "python",
   "nbconvert_exporter": "python",
   "pygments_lexer": "ipython3",
   "version": "3.8.10"
  }
 },
 "nbformat": 4,
 "nbformat_minor": 4
}
